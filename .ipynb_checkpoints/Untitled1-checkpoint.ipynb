{
 "cells": [
  {
   "cell_type": "code",
   "execution_count": null,
   "metadata": {},
   "outputs": [],
   "source": [
    "import jieba\n",
    "def cutwords(text):\n",
    "    data = jieba.cut(text)\n",
    "#     data = [word.encode('utf-8') for word in list(data)]\n",
    "    with open('stopwords.txt',encoding='utf-8') as f:\n",
    "        stoplist= {}.fromkeys([line.strip() for line in f.readlines()])\n",
    "    stoplist[' ']=None\n",
    "    stoplist['\\n']=None\n",
    "    segs = [word for word in list(data) if word not in stoplist]\n",
    "    return segs\n"
   ]
  },
  {
   "cell_type": "code",
   "execution_count": null,
   "metadata": {},
   "outputs": [],
   "source": [
    "def getvalue(text):\n",
    "    if \"很差\" == text:\n",
    "        return 1\n",
    "    elif \"较差\" == text:\n",
    "        return 2\n",
    "    elif \"还行\" == text:\n",
    "        return 3\n",
    "    elif \"推荐\" == text:\n",
    "        return 4\n",
    "    elif \"力荐\" == text:\n",
    "        return 5"
   ]
  },
  {
   "cell_type": "code",
   "execution_count": null,
   "metadata": {},
   "outputs": [],
   "source": [
    "import csv"
   ]
  },
  {
   "cell_type": "code",
   "execution_count": null,
   "metadata": {},
   "outputs": [],
   "source": [
    "def preprocess_file(file):\n",
    "    # 语料文本内容\n",
    "    rows = []\n",
    "    labels = []\n",
    "    with open(file, 'r',encoding='UTF-8') as f:\n",
    "        f_csv = csv.reader(f)\n",
    "        headers = next(f_csv)\n",
    "        for line in f_csv:\n",
    "            if line[2] == 'None' or line[2] == '评分':\n",
    "                continue\n",
    "            rows.append(cutwords(line[-1]))\n",
    "            labels.append(getvalue(line[2]))\n",
    "    return rows,labels\n",
    "\n",
    "#     words = sorted(list(files_content))\n",
    "#     counted_words = {}\n",
    "#     for word in words:\n",
    "#         if word in counted_words:\n",
    "#             counted_words[word] += 1\n",
    "#         else:\n",
    "#             counted_words[word] = 1\n",
    "\n",
    "#     # 去掉低频的字\n",
    "#     erase = []\n",
    "#     for key in counted_words:\n",
    "#         if counted_words[key] <= 2:\n",
    "#             erase.append(key)\n",
    "#     for key in erase:\n",
    "#         del counted_words[key]\n",
    "#     wordPairs = sorted(counted_words.items(), key=lambda x: -x[1])\n",
    "\n",
    "#     words, _ = zip(*wordPairs)\n",
    "#     words += (\" \",)\n",
    "#     # word到id的映射\n",
    "#     word2num = dict((c, i) for i, c in enumerate(words))\n",
    "#     num2word = dict((i, c) for i, c in enumerate(words))\n",
    "#     word2numF = lambda x: word2num.get(x, len(words) - 1)\n",
    "#     return word2numF, num2word, words, files_content"
   ]
  },
  {
   "cell_type": "code",
   "execution_count": null,
   "metadata": {},
   "outputs": [],
   "source": [
    "rows,labels = preprocess_file('comments/dbcomments_dunkrik.csv')"
   ]
  },
  {
   "cell_type": "code",
   "execution_count": null,
   "metadata": {},
   "outputs": [],
   "source": [
    "rows[0]"
   ]
  },
  {
   "cell_type": "code",
   "execution_count": null,
   "metadata": {},
   "outputs": [],
   "source": [
    "counted_words = {}\n",
    "for row in rows:\n",
    "    for word in row:\n",
    "        if word in counted_words:\n",
    "            counted_words[word] += 1\n",
    "        else:\n",
    "            counted_words[word] = 1\n",
    "\n",
    "wordPairs = sorted(counted_words.items(), key=lambda x: -x[1])\n",
    "words, _ = zip(*wordPairs)"
   ]
  },
  {
   "cell_type": "code",
   "execution_count": null,
   "metadata": {},
   "outputs": [],
   "source": [
    "len(words)"
   ]
  },
  {
   "cell_type": "code",
   "execution_count": null,
   "metadata": {},
   "outputs": [],
   "source": [
    "words += (\" \",)\n",
    "    # word到id的映射\n",
    "word2num = dict((c, i) for i, c in enumerate(words))\n",
    "num2word = dict((i, c) for i, c in enumerate(words))\n",
    "word2numF = lambda x: word2num.get(x, len(words) - 1)"
   ]
  },
  {
   "cell_type": "code",
   "execution_count": null,
   "metadata": {},
   "outputs": [],
   "source": [
    "word2num['好']"
   ]
  },
  {
   "cell_type": "code",
   "execution_count": null,
   "metadata": {},
   "outputs": [],
   "source": [
    "word_len = len(words)\n",
    "word_len"
   ]
  },
  {
   "cell_type": "code",
   "execution_count": null,
   "metadata": {},
   "outputs": [],
   "source": [
    "word2numF('情节')"
   ]
  },
  {
   "cell_type": "code",
   "execution_count": null,
   "metadata": {},
   "outputs": [],
   "source": [
    "import numpy as np"
   ]
  },
  {
   "cell_type": "code",
   "execution_count": null,
   "metadata": {},
   "outputs": [],
   "source": [
    "X_train = np.zeros((len(rows),60))\n",
    "i=0\n",
    "for row in rows:\n",
    "    if len(row)>60:\n",
    "        row = row[:60]\n",
    "    \n",
    "    j=0\n",
    "    for word in row:\n",
    "        X_train[i,j] = word2numF(word)\n",
    "        j+=1\n",
    "    i+=1\n",
    "     \n"
   ]
  },
  {
   "cell_type": "code",
   "execution_count": null,
   "metadata": {},
   "outputs": [],
   "source": [
    "X_train.shape"
   ]
  },
  {
   "cell_type": "code",
   "execution_count": null,
   "metadata": {},
   "outputs": [],
   "source": [
    "Y_train = np.asarray(labels)\n",
    "Y_train"
   ]
  },
  {
   "cell_type": "code",
   "execution_count": null,
   "metadata": {},
   "outputs": [],
   "source": [
    "from sklearn.model_selection import train_test_split\n",
    "from keras.preprocessing import sequence\n",
    "from keras.models import Sequential\n",
    "from keras.layers.recurrent import LSTM\n",
    "from keras.layers.core import Dense, Dropout, Activation\n",
    "from keras.utils import to_categorical\n",
    "from keras.layers.embeddings import Embedding"
   ]
  },
  {
   "cell_type": "code",
   "execution_count": null,
   "metadata": {},
   "outputs": [],
   "source": [
    "Y_train = to_categorical(Y_train-1)"
   ]
  },
  {
   "cell_type": "code",
   "execution_count": null,
   "metadata": {},
   "outputs": [],
   "source": [
    "X_train,X_test,Y_train,Y_test = train_test_split(X_train,Y_train,test_size=0.1)"
   ]
  },
  {
   "cell_type": "code",
   "execution_count": null,
   "metadata": {},
   "outputs": [],
   "source": [
    "X_train.shape"
   ]
  },
  {
   "cell_type": "code",
   "execution_count": null,
   "metadata": {},
   "outputs": [],
   "source": [
    "from gensim.models import word2vec\n",
    "mod = word2vec.Word2Vec.load('model/Word60.model')"
   ]
  },
  {
   "cell_type": "code",
   "execution_count": null,
   "metadata": {},
   "outputs": [],
   "source": [
    "print(num2word[0])\n",
    "print(mod[num2word[0]])"
   ]
  },
  {
   "cell_type": "code",
   "execution_count": null,
   "metadata": {},
   "outputs": [],
   "source": [
    "embedding_weights = np.zeros((word_len, 60))\n",
    "for i in range(word_len):\n",
    "    if num2word[i] not in mod.vocab:\n",
    "        continue\n",
    "    embedding_weights[i] = mod[num2word[i]]\n",
    "input_length=60\n",
    "input_dim=word_len\n",
    "\n",
    "model = Sequential()\n",
    "model.add(Embedding(output_dim=60,\n",
    "                        input_dim=input_dim,\n",
    "                        mask_zero=True,\n",
    "                        weights=[embedding_weights],\n",
    "                        input_length=input_length))\n",
    "\n",
    "model.add(LSTM(output_dim=50,\n",
    "                   activation='sigmoid',\n",
    "                   inner_activation='hard_sigmoid'))\n",
    "model.add(Dropout(0.3))\n",
    "model.add(Dense(5))\n",
    "model.add(Activation('softmax'))"
   ]
  },
  {
   "cell_type": "code",
   "execution_count": null,
   "metadata": {},
   "outputs": [],
   "source": [
    "model.compile(loss='categorical_crossentropy',\n",
    "                  optimizer='adam',\n",
    "                  metrics=['accuracy'])\n",
    "model.fit(X_train,Y_train,epochs=200,batch_size=32,validation_data=(X_test,Y_test))"
   ]
  },
  {
   "cell_type": "code",
   "execution_count": null,
   "metadata": {},
   "outputs": [],
   "source": []
  }
 ],
 "metadata": {
  "kernelspec": {
   "display_name": "Python 3",
   "language": "python",
   "name": "python3"
  },
  "language_info": {
   "codemirror_mode": {
    "name": "ipython",
    "version": 3
   },
   "file_extension": ".py",
   "mimetype": "text/x-python",
   "name": "python",
   "nbconvert_exporter": "python",
   "pygments_lexer": "ipython3",
   "version": "3.5.4"
  }
 },
 "nbformat": 4,
 "nbformat_minor": 2
}
