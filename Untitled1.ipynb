{
 "cells": [
  {
   "cell_type": "code",
   "execution_count": 1,
   "metadata": {},
   "outputs": [],
   "source": [
    "import jieba\n",
    "def cutwords(text):\n",
    "    data = jieba.cut(text)\n",
    "#     data = [word.encode('utf-8') for word in list(data)]\n",
    "    with open('stopwords2.txt',encoding='utf-8') as f:\n",
    "        stoplist= {}.fromkeys([line.strip() for line in f.readlines()])\n",
    "    stoplist[' ']=None\n",
    "    stoplist['\\n']=None\n",
    "    segs = [word for word in list(data) if word not in stoplist]\n",
    "    return segs\n"
   ]
  },
  {
   "cell_type": "code",
   "execution_count": 2,
   "metadata": {},
   "outputs": [],
   "source": [
    "def getvalue(text):  \n",
    "    if \"很差\" == text or '1.0'==text:\n",
    "        return 0\n",
    "    elif \"较差\" == text or '2.0'==text:\n",
    "        return 0\n",
    "    elif \"还行\" == text or '3.0'==text:\n",
    "        return 0\n",
    "    elif \"推荐\" == text or '4.0'==text:\n",
    "        return 1\n",
    "    elif \"力荐\" == text or '5.0'==text:\n",
    "        return 1\n",
    "    else:\n",
    "        print('the score is out of range:',text,type(text))"
   ]
  },
  {
   "cell_type": "code",
   "execution_count": 3,
   "metadata": {},
   "outputs": [],
   "source": [
    "import os \n",
    "import os.path\n",
    "import csv\n",
    "import json\n",
    "\n",
    "def preprocess_file(path):\n",
    "    # this folder is custom \n",
    "    rootdir=path\n",
    "    \n",
    "    # 语料文本内容\n",
    "    rows = []\n",
    "    labels = []\n",
    "    \n",
    "    for parent,dirnames,filenames in os.walk(rootdir): \n",
    "        for filename in filenames:    \n",
    "            full_file = os.path.join(parent,filename)\n",
    "            with open(full_file, 'r',encoding='UTF-8') as f:\n",
    "                f_csv = csv.reader(f)\n",
    "#                 headers = next(f_csv)\n",
    "                for line in f_csv:\n",
    "                    if line[2] == 'None' or line[2] == '评分' or line[2] == '0' or line[2]=='3.0':\n",
    "#                         print('-------wrong file:',filename)\n",
    "                        continue\n",
    "                    rows.append(cutwords(line[-1]))\n",
    "                    labels.append(getvalue(line[2]))\n",
    "    \n",
    "    return rows,labels"
   ]
  },
  {
   "cell_type": "code",
   "execution_count": 4,
   "metadata": {},
   "outputs": [
    {
     "name": "stderr",
     "output_type": "stream",
     "text": [
      "Building prefix dict from the default dictionary ...\n",
      "Loading model from cache C:\\Users\\尤晟\\AppData\\Local\\Temp\\jieba.cache\n",
      "Loading model cost 0.794 seconds.\n",
      "Prefix dict has been built succesfully.\n"
     ]
    }
   ],
   "source": [
    "rows,labels = preprocess_file('dataset')"
   ]
  },
  {
   "cell_type": "code",
   "execution_count": 5,
   "metadata": {},
   "outputs": [
    {
     "data": {
      "text/plain": [
       "['相比', '金陵', '十三', '钗', '魏德圣用', '1.4', '个', '亿', '给', '张艺谋', '狠狠', '一记', '耳光']"
      ]
     },
     "execution_count": 5,
     "metadata": {},
     "output_type": "execute_result"
    }
   ],
   "source": [
    "rows[0]"
   ]
  },
  {
   "cell_type": "code",
   "execution_count": 6,
   "metadata": {},
   "outputs": [],
   "source": [
    "counted_words = {}\n",
    "for row in rows:\n",
    "    for word in row:\n",
    "        if word in counted_words:\n",
    "            counted_words[word] += 1\n",
    "        else:\n",
    "            counted_words[word] = 1\n",
    "\n",
    "wordPairs = sorted(counted_words.items(), key=lambda x: -x[1])\n",
    "words, _ = zip(*wordPairs)"
   ]
  },
  {
   "cell_type": "code",
   "execution_count": 7,
   "metadata": {},
   "outputs": [
    {
     "data": {
      "text/plain": [
       "107737"
      ]
     },
     "execution_count": 7,
     "metadata": {},
     "output_type": "execute_result"
    }
   ],
   "source": [
    "len(words)"
   ]
  },
  {
   "cell_type": "code",
   "execution_count": 8,
   "metadata": {},
   "outputs": [],
   "source": [
    "words += (\" \",)\n",
    "    # word到id的映射\n",
    "word2num = dict((c, i) for i, c in enumerate(words))\n",
    "num2word = dict((i, c) for i, c in enumerate(words))\n",
    "word2numF = lambda x: word2num.get(x, len(words) - 1)"
   ]
  },
  {
   "cell_type": "code",
   "execution_count": 9,
   "metadata": {},
   "outputs": [
    {
     "data": {
      "text/plain": [
       "14"
      ]
     },
     "execution_count": 9,
     "metadata": {},
     "output_type": "execute_result"
    }
   ],
   "source": [
    "word2num['好']"
   ]
  },
  {
   "cell_type": "code",
   "execution_count": 10,
   "metadata": {},
   "outputs": [
    {
     "data": {
      "text/plain": [
       "107738"
      ]
     },
     "execution_count": 10,
     "metadata": {},
     "output_type": "execute_result"
    }
   ],
   "source": [
    "word_len = len(words)\n",
    "word_len"
   ]
  },
  {
   "cell_type": "code",
   "execution_count": 11,
   "metadata": {},
   "outputs": [
    {
     "data": {
      "text/plain": [
       "155"
      ]
     },
     "execution_count": 11,
     "metadata": {},
     "output_type": "execute_result"
    }
   ],
   "source": [
    "word2numF('情节')"
   ]
  },
  {
   "cell_type": "code",
   "execution_count": 12,
   "metadata": {},
   "outputs": [],
   "source": [
    "import numpy as np\n",
    "X_train = np.zeros((len(rows),60))\n",
    "i=0\n",
    "for row in rows:\n",
    "    if len(row)>60:\n",
    "        row = row[:60]\n",
    "    \n",
    "    j=0\n",
    "    for word in row:\n",
    "        X_train[i,j] = word2numF(word)\n",
    "        j+=1\n",
    "    i+=1\n",
    "     \n"
   ]
  },
  {
   "cell_type": "code",
   "execution_count": 13,
   "metadata": {},
   "outputs": [
    {
     "data": {
      "text/plain": [
       "(99047, 60)"
      ]
     },
     "execution_count": 13,
     "metadata": {},
     "output_type": "execute_result"
    }
   ],
   "source": [
    "X_train.shape"
   ]
  },
  {
   "cell_type": "code",
   "execution_count": 14,
   "metadata": {},
   "outputs": [
    {
     "data": {
      "text/plain": [
       "array([1, 1, 1, ..., 1, 1, 0])"
      ]
     },
     "execution_count": 14,
     "metadata": {},
     "output_type": "execute_result"
    }
   ],
   "source": [
    "Y_train = np.asarray(labels)\n",
    "Y_train"
   ]
  },
  {
   "cell_type": "code",
   "execution_count": 15,
   "metadata": {},
   "outputs": [
    {
     "name": "stderr",
     "output_type": "stream",
     "text": [
      "Using TensorFlow backend.\n"
     ]
    }
   ],
   "source": [
    "from sklearn.model_selection import train_test_split\n",
    "from keras.preprocessing import sequence\n",
    "from keras.models import Sequential\n",
    "from keras.layers import CuDNNLSTM\n",
    "from keras.layers.recurrent import LSTM\n",
    "from keras.layers.core import Dense, Dropout, Activation\n",
    "from keras.utils import to_categorical\n",
    "from keras.layers.embeddings import Embedding\n",
    "import keras"
   ]
  },
  {
   "cell_type": "code",
   "execution_count": 16,
   "metadata": {},
   "outputs": [],
   "source": [
    "Y_train = to_categorical(Y_train)"
   ]
  },
  {
   "cell_type": "code",
   "execution_count": 17,
   "metadata": {},
   "outputs": [],
   "source": [
    "X_train,X_test,Y_train,Y_test = train_test_split(X_train,Y_train,test_size=0.05)"
   ]
  },
  {
   "cell_type": "code",
   "execution_count": 18,
   "metadata": {},
   "outputs": [
    {
     "data": {
      "text/plain": [
       "(94094, 60)"
      ]
     },
     "execution_count": 18,
     "metadata": {},
     "output_type": "execute_result"
    }
   ],
   "source": [
    "X_train.shape"
   ]
  },
  {
   "cell_type": "code",
   "execution_count": 19,
   "metadata": {},
   "outputs": [
    {
     "data": {
      "text/plain": [
       "(94094, 2)"
      ]
     },
     "execution_count": 19,
     "metadata": {},
     "output_type": "execute_result"
    }
   ],
   "source": [
    "Y_train.shape"
   ]
  },
  {
   "cell_type": "code",
   "execution_count": 20,
   "metadata": {},
   "outputs": [
    {
     "name": "stderr",
     "output_type": "stream",
     "text": [
      "f:\\pythonprojects\\venv\\tf8\\lib\\site-packages\\gensim\\utils.py:862: UserWarning: detected Windows; aliasing chunkize to chunkize_serial\n",
      "  warnings.warn(\"detected Windows; aliasing chunkize to chunkize_serial\")\n"
     ]
    }
   ],
   "source": [
    "from gensim.models import word2vec\n",
    "mod = word2vec.Word2Vec.load('model/Word60.model')"
   ]
  },
  {
   "cell_type": "code",
   "execution_count": 21,
   "metadata": {},
   "outputs": [
    {
     "name": "stdout",
     "output_type": "stream",
     "text": [
      "是\n",
      "[-1.5998168  -1.46933627  0.70485598 -2.13757277 -2.71846628 -3.2813704\n",
      "  0.71537399  2.37321067  0.41375214  1.42805779  1.56803334  0.70252413\n",
      " -0.44817173 -0.07230099 -0.59609669 -1.55510414  1.20397377 -0.41371518\n",
      "  1.61654425  0.49382344 -2.69222808  1.78639007 -0.57286876 -0.93974096\n",
      " -1.09127474 -0.71230847  1.38010442  2.29508352  4.09463215  0.49407932\n",
      "  0.54809403  2.19170046  1.58463764  1.3601526  -0.97439188  1.05474532\n",
      " -0.70730627  2.87277532  4.20369577  1.82923901  1.017102    0.08763042\n",
      " -8.30579567 -1.58393979 -1.87073493  1.80044007 -0.73256731 -0.5690459\n",
      "  5.7429347   1.32983923  1.96590698  1.2184155  -1.98040926 -3.87478447\n",
      "  3.8770628  -0.16740355  3.7136004   2.38610411  1.62390244 -3.40170121]\n"
     ]
    }
   ],
   "source": [
    "print(num2word[0])\n",
    "print(mod[num2word[0]])"
   ]
  },
  {
   "cell_type": "code",
   "execution_count": 22,
   "metadata": {},
   "outputs": [],
   "source": [
    "from sklearn.ensemble import RandomForestClassifier"
   ]
  },
  {
   "cell_type": "code",
   "execution_count": null,
   "metadata": {},
   "outputs": [],
   "source": [
    "rf1 = RandomForestClassifier(n_estimators=40, min_samples_split=6, max_depth=27, max_features=56, oob_score=True)\n",
    "rf1.fit(X_train, Y_train)"
   ]
  },
  {
   "cell_type": "code",
   "execution_count": null,
   "metadata": {},
   "outputs": [],
   "source": [
    "text = '演技太棒了，台词也非常到位，我们都非常喜欢这部电影。'\n",
    "texts = cutwords(text)\n",
    "print(texts)\n",
    "X = np.zeros((1,60))\n",
    "for i,t in enumerate(texts):\n",
    "    X[0,i] = word2numF(t)\n",
    "print(X)\n",
    "rf1.predict(X)"
   ]
  },
  {
   "cell_type": "code",
   "execution_count": null,
   "metadata": {},
   "outputs": [],
   "source": [
    "rf1.score(X_train, Y_train)"
   ]
  },
  {
   "cell_type": "code",
   "execution_count": null,
   "metadata": {},
   "outputs": [],
   "source": [
    "rf1.score(X_test, Y_test)"
   ]
  },
  {
   "cell_type": "code",
   "execution_count": 47,
   "metadata": {},
   "outputs": [],
   "source": [
    "embedding_weights = np.zeros((word_len, 60))\n",
    "for i in range(word_len):\n",
    "    if num2word[i] not in mod.vocab:\n",
    "        continue\n",
    "    embedding_weights[i] = mod[num2word[i]]\n",
    "input_length=60\n",
    "input_dim=word_len\n",
    "\n",
    "model = Sequential()\n",
    "layer = Embedding(output_dim=60,\n",
    "                        input_dim=input_dim,\n",
    "                        mask_zero=False,\n",
    "                        weights=[embedding_weights],\n",
    "                        input_length=input_length\n",
    "                   )\n",
    "layer.trainable = True\n",
    "model.add(layer)\n",
    "\n",
    "model.add(CuDNNLSTM(units=128,\n",
    "                   return_sequences = False,\n",
    "                    bias_initializer = 'Ones',\n",
    "#                     kernel_regularizer = 'l2',\n",
    "#                     recurrent_regularizer = 'l2'\n",
    "                   ))\n",
    "# model.add(LSTM(units=128,\n",
    "#                    activation='tanh',\n",
    "#                      dropout=0.5, recurrent_dropout=0.2\n",
    "#                    ))\n",
    "\n",
    "model.add(Dense(32,activation='relu'))\n",
    "model.add(Dropout(0.5))\n",
    "model.add(Dense(2))\n",
    "\n",
    "model.add(Activation('sigmoid'))"
   ]
  },
  {
   "cell_type": "code",
   "execution_count": 48,
   "metadata": {},
   "outputs": [
    {
     "name": "stdout",
     "output_type": "stream",
     "text": [
      "Train on 94094 samples, validate on 4953 samples\n",
      "Epoch 1/50\n",
      "94094/94094 [==============================] - 18s 190us/step - loss: 0.4312 - acc: 0.8562 - val_loss: 0.4229 - val_acc: 0.8500\n",
      "Epoch 2/50\n",
      "94094/94094 [==============================] - 17s 181us/step - loss: 0.4207 - acc: 0.8587 - val_loss: 0.4248 - val_acc: 0.8500\n",
      "Epoch 3/50\n",
      "94094/94094 [==============================] - 17s 182us/step - loss: 0.4181 - acc: 0.8587 - val_loss: 0.4246 - val_acc: 0.8500\n",
      "Epoch 4/50\n",
      "94094/94094 [==============================] - 17s 183us/step - loss: 0.4168 - acc: 0.8587 - val_loss: 0.4215 - val_acc: 0.8500\n",
      "Epoch 5/50\n",
      "94094/94094 [==============================] - 17s 182us/step - loss: 0.4107 - acc: 0.8587 - val_loss: 0.4101 - val_acc: 0.8500\n",
      "Epoch 6/50\n",
      "94094/94094 [==============================] - 17s 183us/step - loss: 0.3976 - acc: 0.8587 - val_loss: 0.4013 - val_acc: 0.8500\n",
      "Epoch 7/50\n",
      "94094/94094 [==============================] - 17s 183us/step - loss: 0.3877 - acc: 0.8587 - val_loss: 0.3903 - val_acc: 0.8500\n",
      "Epoch 8/50\n",
      "94094/94094 [==============================] - 17s 183us/step - loss: 0.3809 - acc: 0.8587 - val_loss: 0.3828 - val_acc: 0.8500\n",
      "Epoch 9/50\n",
      "94094/94094 [==============================] - 17s 183us/step - loss: 0.3749 - acc: 0.8587 - val_loss: 0.3769 - val_acc: 0.8500\n",
      "Epoch 10/50\n",
      "94094/94094 [==============================] - 17s 184us/step - loss: 0.3701 - acc: 0.8587 - val_loss: 0.3773 - val_acc: 0.8500\n",
      "Epoch 11/50\n",
      "94094/94094 [==============================] - 17s 184us/step - loss: 0.3654 - acc: 0.8587 - val_loss: 0.4103 - val_acc: 0.8500\n",
      "Epoch 12/50\n",
      "94094/94094 [==============================] - 17s 183us/step - loss: 0.3621 - acc: 0.8587 - val_loss: 0.3695 - val_acc: 0.8500\n",
      "Epoch 13/50\n",
      "94094/94094 [==============================] - 17s 184us/step - loss: 0.3607 - acc: 0.8587 - val_loss: 0.3928 - val_acc: 0.8500\n",
      "Epoch 14/50\n",
      "94094/94094 [==============================] - 17s 184us/step - loss: 0.3593 - acc: 0.8587 - val_loss: 0.3669 - val_acc: 0.8500\n",
      "Epoch 15/50\n",
      "94094/94094 [==============================] - 17s 183us/step - loss: 0.3580 - acc: 0.8587 - val_loss: 0.3676 - val_acc: 0.8500\n",
      "Epoch 16/50\n",
      "94094/94094 [==============================] - 17s 184us/step - loss: 0.3564 - acc: 0.8587 - val_loss: 0.3656 - val_acc: 0.8500\n",
      "Epoch 17/50\n",
      "94094/94094 [==============================] - 17s 183us/step - loss: 0.3552 - acc: 0.8587 - val_loss: 0.3884 - val_acc: 0.8500\n",
      "Epoch 18/50\n",
      "94094/94094 [==============================] - 17s 184us/step - loss: 0.3548 - acc: 0.8587 - val_loss: 0.3773 - val_acc: 0.8500\n",
      "Epoch 19/50\n",
      "94094/94094 [==============================] - 17s 184us/step - loss: 0.3530 - acc: 0.8587 - val_loss: 0.3622 - val_acc: 0.8500\n",
      "Epoch 20/50\n",
      "94094/94094 [==============================] - 17s 183us/step - loss: 0.3521 - acc: 0.8587 - val_loss: 0.3602 - val_acc: 0.8500\n",
      "Epoch 21/50\n",
      "94094/94094 [==============================] - 17s 184us/step - loss: 0.3514 - acc: 0.8587 - val_loss: 0.3597 - val_acc: 0.8500\n",
      "Epoch 22/50\n",
      "94094/94094 [==============================] - 17s 184us/step - loss: 0.3499 - acc: 0.8587 - val_loss: 0.3605 - val_acc: 0.8500\n",
      "Epoch 23/50\n",
      "94094/94094 [==============================] - 17s 184us/step - loss: 0.3491 - acc: 0.8587 - val_loss: 0.3568 - val_acc: 0.8500\n",
      "Epoch 24/50\n",
      "94094/94094 [==============================] - 17s 184us/step - loss: 0.3480 - acc: 0.8587 - val_loss: 0.3592 - val_acc: 0.8500\n",
      "Epoch 25/50\n",
      "94094/94094 [==============================] - 17s 184us/step - loss: 0.3471 - acc: 0.8587 - val_loss: 0.3710 - val_acc: 0.8500\n",
      "Epoch 26/50\n",
      "94094/94094 [==============================] - 17s 184us/step - loss: 0.3468 - acc: 0.8587 - val_loss: 0.3577 - val_acc: 0.8500\n",
      "Epoch 27/50\n",
      "94094/94094 [==============================] - 17s 184us/step - loss: 0.3457 - acc: 0.8586 - val_loss: 0.3646 - val_acc: 0.8500\n",
      "Epoch 28/50\n",
      "94094/94094 [==============================] - 17s 183us/step - loss: 0.3451 - acc: 0.8588 - val_loss: 0.3556 - val_acc: 0.8500\n",
      "Epoch 29/50\n",
      "94094/94094 [==============================] - 17s 183us/step - loss: 0.3430 - acc: 0.8590 - val_loss: 0.3519 - val_acc: 0.8500\n",
      "Epoch 30/50\n",
      "94094/94094 [==============================] - 17s 183us/step - loss: 0.3432 - acc: 0.8588 - val_loss: 0.3653 - val_acc: 0.8500\n",
      "Epoch 31/50\n",
      "94094/94094 [==============================] - 17s 183us/step - loss: 0.3418 - acc: 0.8588 - val_loss: 0.3521 - val_acc: 0.8502\n",
      "Epoch 32/50\n",
      "94094/94094 [==============================] - 17s 183us/step - loss: 0.3407 - acc: 0.8593 - val_loss: 0.3557 - val_acc: 0.8501\n",
      "Epoch 33/50\n",
      "94094/94094 [==============================] - 17s 183us/step - loss: 0.3401 - acc: 0.8591 - val_loss: 0.3475 - val_acc: 0.8502\n",
      "Epoch 34/50\n",
      "94094/94094 [==============================] - 17s 183us/step - loss: 0.3391 - acc: 0.8595 - val_loss: 0.3567 - val_acc: 0.8502\n",
      "Epoch 35/50\n",
      "94094/94094 [==============================] - 17s 183us/step - loss: 0.3379 - acc: 0.8594 - val_loss: 0.3574 - val_acc: 0.8502\n",
      "Epoch 36/50\n",
      "94094/94094 [==============================] - 17s 183us/step - loss: 0.3361 - acc: 0.8602 - val_loss: 0.3518 - val_acc: 0.8502\n",
      "Epoch 37/50\n",
      "94094/94094 [==============================] - 17s 183us/step - loss: 0.3366 - acc: 0.8600 - val_loss: 0.3430 - val_acc: 0.8507\n",
      "Epoch 38/50\n",
      "94094/94094 [==============================] - 17s 183us/step - loss: 0.3348 - acc: 0.8603 - val_loss: 0.3499 - val_acc: 0.8508\n",
      "Epoch 39/50\n",
      "94094/94094 [==============================] - 17s 183us/step - loss: 0.3334 - acc: 0.8602 - val_loss: 0.3480 - val_acc: 0.8526\n",
      "Epoch 40/50\n",
      "94094/94094 [==============================] - 17s 183us/step - loss: 0.3314 - acc: 0.8608 - val_loss: 0.3405 - val_acc: 0.8537\n",
      "Epoch 41/50\n",
      "94094/94094 [==============================] - 17s 183us/step - loss: 0.3300 - acc: 0.8613 - val_loss: 0.3456 - val_acc: 0.8502\n",
      "Epoch 42/50\n",
      "94094/94094 [==============================] - 17s 184us/step - loss: 0.3284 - acc: 0.8630 - val_loss: 0.3717 - val_acc: 0.8466\n",
      "Epoch 43/50\n",
      "94094/94094 [==============================] - 17s 184us/step - loss: 0.3280 - acc: 0.8624 - val_loss: 0.3377 - val_acc: 0.8537\n",
      "Epoch 44/50\n",
      "94094/94094 [==============================] - 17s 184us/step - loss: 0.3262 - acc: 0.8631 - val_loss: 0.3491 - val_acc: 0.8515\n",
      "Epoch 45/50\n",
      "94094/94094 [==============================] - 17s 184us/step - loss: 0.3238 - acc: 0.8632 - val_loss: 0.3366 - val_acc: 0.8592\n",
      "Epoch 46/50\n",
      "94094/94094 [==============================] - 17s 184us/step - loss: 0.3228 - acc: 0.8647 - val_loss: 0.3506 - val_acc: 0.8623\n",
      "Epoch 47/50\n",
      "94094/94094 [==============================] - 17s 184us/step - loss: 0.3217 - acc: 0.8644 - val_loss: 0.3317 - val_acc: 0.8612\n",
      "Epoch 48/50\n",
      "94094/94094 [==============================] - 17s 185us/step - loss: 0.3212 - acc: 0.8657 - val_loss: 0.3370 - val_acc: 0.8621\n",
      "Epoch 49/50\n",
      "94094/94094 [==============================] - 17s 185us/step - loss: 0.3190 - acc: 0.8666 - val_loss: 0.3661 - val_acc: 0.8455\n",
      "Epoch 50/50\n",
      "94094/94094 [==============================] - 17s 184us/step - loss: 0.3176 - acc: 0.8671 - val_loss: 0.3378 - val_acc: 0.8636\n"
     ]
    }
   ],
   "source": [
    "es = keras.callbacks.EarlyStopping(monitor='val_loss', patience=3, verbose=0, mode='auto')\n",
    "model.compile(loss='binary_crossentropy',\n",
    "                  optimizer='sgd',\n",
    "                  metrics=['accuracy'],\n",
    "             )\n",
    "his = model.fit(X_train,Y_train,epochs=50,batch_size=64,validation_data=(X_test,Y_test),callbacks = [])"
   ]
  },
  {
   "cell_type": "code",
   "execution_count": 41,
   "metadata": {},
   "outputs": [],
   "source": [
    "his1 = his\n",
    "# his1.history['val_acc']"
   ]
  },
  {
   "cell_type": "code",
   "execution_count": 44,
   "metadata": {},
   "outputs": [],
   "source": [
    "his_adam = his"
   ]
  },
  {
   "cell_type": "code",
   "execution_count": 49,
   "metadata": {},
   "outputs": [],
   "source": [
    "his_sgd = his"
   ]
  },
  {
   "cell_type": "code",
   "execution_count": 59,
   "metadata": {},
   "outputs": [
    {
     "data": {
      "image/png": "[encoded data removed]",
      "text/plain": [
       "<matplotlib.figure.Figure at 0x1a009e098d0>"
      ]
     },
     "metadata": {},
     "output_type": "display_data"
    }
   ],
   "source": [
    "x= his1.epoch\n",
    "y1= his1.history['val_acc']\n",
    "y2 = his_adam.history['val_acc']\n",
    "y3  = his_sgd.history['val_acc']\n",
    "\n",
    "\n",
    "fig = plt.figure(figsize=(12,8))\n",
    "plt.xticks(fontsize=15)\n",
    "plt.yticks(fontsize=15)\n",
    "\n",
    "plt.plot(x,y1,label='rmsprop')\n",
    "plt.plot(x,y2,label='adam')\n",
    "plt.plot(x,y3,label='sgd')\n",
    "plt.legend(loc=0,fontsize=18)\n",
    "plt.xlabel('epoches',fontsize=18)\n",
    "plt.ylabel(u'验证集准确率',fontsize=18)\n",
    "plt.ylim([0.8,0.94])\n",
    "plt.grid()\n",
    "plt.savefig('optimizers.png')"
   ]
  },
  {
   "cell_type": "code",
   "execution_count": 30,
   "metadata": {},
   "outputs": [
    {
     "data": {
      "image/png": "[encoded data removed]",
      "text/plain": [
       "<matplotlib.figure.Figure at 0x19fd55ea748>"
      ]
     },
     "metadata": {},
     "output_type": "display_data"
    }
   ],
   "source": [
    "%matplotlib inline\n",
    "import matplotlib.pyplot as plt\n",
    "import numpy as np\n",
    "\n",
    "\n",
    "plt.rcParams['font.sans-serif']=['SimHei'] #用来正常显示中文标签\n",
    "plt.rcParams['axes.unicode_minus']=False #用来正常显示负号\n",
    "\n",
    "x = his.epoch\n",
    "y1 = his.history['val_acc']\n",
    "y2 = his.history['val_loss']\n",
    "\n",
    "fig = plt.figure(figsize=(12,8))\n",
    "# fig = plt.figure()\n",
    "\n",
    "ax1 = fig.add_subplot(111)\n",
    "plt.xticks(fontsize=15)\n",
    "plt.yticks(fontsize=15)\n",
    "\n",
    "\n",
    "lns1 = ax1.plot(x, y1,label='val_acc')\n",
    "# lns3 = ax1.plot(x, his.history['acc'],label='train_acc')\n",
    "ax1.set_ylabel(u'验证集准确率',fontsize = 18)\n",
    "# ax1.legend(loc=4)\n",
    "# ax1.set_title(\"Double Y axis\")\n",
    "ax1.set_ylim([0.8, 0.93])\n",
    "\n",
    "ax2 = ax1.twinx()  # this is the important function\n",
    "plt.xticks(fontsize=15)\n",
    "plt.yticks(fontsize=15)\n",
    "lns2 = ax2.plot(x, y2, '--',color = 'r',label='val_loss')\n",
    "lns3 = ax2.plot(x, his.history['loss'], 'x',color = 'y',label='train_loss')\n",
    "# ax2.legend(loc=4)\n",
    "ax2.set_xlim([0, 25])\n",
    "ax2.set_ylim([0, 2])\n",
    "lns= lns1+lns2+lns3\n",
    "labs = [l.get_label() for l in lns]\n",
    "ax1.legend(lns, labs, loc=4, fontsize = 18)\n",
    "\n",
    "ax1.set_xlabel('epoch',fontsize=18)\n",
    "ax2.set_ylabel(u'验证集损失',fontsize = 18)\n",
    "\n",
    "\n",
    "plt.grid()\n",
    "# plt.show()\n",
    "plt.savefig('2分类.png')"
   ]
  },
  {
   "cell_type": "code",
   "execution_count": 34,
   "metadata": {},
   "outputs": [
    {
     "name": "stdout",
     "output_type": "stream",
     "text": [
      "['我', '讨厌', '这部', '电影', '非常', '差劲']\n",
      "[[  1.00000000e+00   7.94000000e+02   5.10000000e+01   7.00000000e+00\n",
      "    8.20000000e+01   6.30500000e+03   0.00000000e+00   0.00000000e+00\n",
      "    0.00000000e+00   0.00000000e+00   0.00000000e+00   0.00000000e+00\n",
      "    0.00000000e+00   0.00000000e+00   0.00000000e+00   0.00000000e+00\n",
      "    0.00000000e+00   0.00000000e+00   0.00000000e+00   0.00000000e+00\n",
      "    0.00000000e+00   0.00000000e+00   0.00000000e+00   0.00000000e+00\n",
      "    0.00000000e+00   0.00000000e+00   0.00000000e+00   0.00000000e+00\n",
      "    0.00000000e+00   0.00000000e+00   0.00000000e+00   0.00000000e+00\n",
      "    0.00000000e+00   0.00000000e+00   0.00000000e+00   0.00000000e+00\n",
      "    0.00000000e+00   0.00000000e+00   0.00000000e+00   0.00000000e+00\n",
      "    0.00000000e+00   0.00000000e+00   0.00000000e+00   0.00000000e+00\n",
      "    0.00000000e+00   0.00000000e+00   0.00000000e+00   0.00000000e+00\n",
      "    0.00000000e+00   0.00000000e+00   0.00000000e+00   0.00000000e+00\n",
      "    0.00000000e+00   0.00000000e+00   0.00000000e+00   0.00000000e+00\n",
      "    0.00000000e+00   0.00000000e+00   0.00000000e+00   0.00000000e+00]]\n"
     ]
    },
    {
     "data": {
      "text/plain": [
       "array([[ 0.79984838,  0.18557553]], dtype=float32)"
      ]
     },
     "execution_count": 34,
     "metadata": {},
     "output_type": "execute_result"
    }
   ],
   "source": [
    "text = '我讨厌这部电影，非常差劲 '\n",
    "texts = cutwords(text)\n",
    "print(texts)\n",
    "X = np.zeros((1,60))\n",
    "for i,t in enumerate(texts):\n",
    "    X[0,i] = word2numF(t)\n",
    "print(X)\n",
    "model.predict(X)"
   ]
  },
  {
   "cell_type": "code",
   "execution_count": null,
   "metadata": {},
   "outputs": [],
   "source": [
    "Y_train.sum(axis=0)"
   ]
  },
  {
   "cell_type": "code",
   "execution_count": 35,
   "metadata": {},
   "outputs": [
    {
     "name": "stdout",
     "output_type": "stream",
     "text": [
      "['我', '好', '喜欢', '这部', '电影', '情节', '设定']\n",
      "[[   1.   14.   39.   51.    7.  155.  624.    0.    0.    0.    0.    0.\n",
      "     0.    0.    0.    0.    0.    0.    0.    0.    0.    0.    0.    0.\n",
      "     0.    0.    0.    0.    0.    0.    0.    0.    0.    0.    0.    0.\n",
      "     0.    0.    0.    0.    0.    0.    0.    0.    0.    0.    0.    0.\n",
      "     0.    0.    0.    0.    0.    0.    0.    0.    0.    0.    0.    0.]]\n"
     ]
    },
    {
     "data": {
      "text/plain": [
       "array([[ 0.0154155 ,  0.98477018]], dtype=float32)"
      ]
     },
     "execution_count": 35,
     "metadata": {},
     "output_type": "execute_result"
    }
   ],
   "source": [
    "text = '我好喜欢这部电影的情节设定！ '\n",
    "texts = cutwords(text)\n",
    "print(texts)\n",
    "X = np.zeros((1,60))\n",
    "for i,t in enumerate(texts):\n",
    "    X[0,i] = word2numF(t)\n",
    "print(X)\n",
    "model.predict(X)"
   ]
  },
  {
   "cell_type": "code",
   "execution_count": 36,
   "metadata": {},
   "outputs": [
    {
     "data": {
      "text/plain": [
       "[0.8499899051922537,\n",
       " 0.86038764393644918,\n",
       " 0.88289925286968673,\n",
       " 0.88935998373986636,\n",
       " 0.88875429031705944,\n",
       " 0.89622451028943229,\n",
       " 0.89390268532550621,\n",
       " 0.89531597010708563]"
      ]
     },
     "execution_count": 36,
     "metadata": {},
     "output_type": "execute_result"
    }
   ],
   "source": [
    "his.history['val_acc']"
   ]
  },
  {
   "cell_type": "code",
   "execution_count": null,
   "metadata": {},
   "outputs": [],
   "source": []
  }
 ],
 "metadata": {
  "kernelspec": {
   "display_name": "Python 3",
   "language": "python",
   "name": "python3"
  },
  "language_info": {
   "codemirror_mode": {
    "name": "ipython",
    "version": 3
   },
   "file_extension": ".py",
   "mimetype": "text/x-python",
   "name": "python",
   "nbconvert_exporter": "python",
   "pygments_lexer": "ipython3",
   "version": "3.5.4"
  }
 },
 "nbformat": 4,
 "nbformat_minor": 2
}
